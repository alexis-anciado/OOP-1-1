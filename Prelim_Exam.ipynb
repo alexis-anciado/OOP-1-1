{
  "nbformat": 4,
  "nbformat_minor": 0,
  "metadata": {
    "colab": {
      "name": "Prelim Exam.ipynb",
      "provenance": [],
      "authorship_tag": "ABX9TyNzH0RAEh6VXhps6QXY7dF6",
      "include_colab_link": true
    },
    "kernelspec": {
      "name": "python3",
      "display_name": "Python 3"
    },
    "language_info": {
      "name": "python"
    }
  },
  "cells": [
    {
      "cell_type": "markdown",
      "metadata": {
        "id": "view-in-github",
        "colab_type": "text"
      },
      "source": [
        "<a href=\"https://colab.research.google.com/github/alexis-anciado/OOP-1-1/blob/main/Prelim_Exam.ipynb\" target=\"_parent\"><img src=\"https://colab.research.google.com/assets/colab-badge.svg\" alt=\"Open In Colab\"/></a>"
      ]
    },
    {
      "cell_type": "markdown",
      "source": [
        "Problem 2"
      ],
      "metadata": {
        "id": "4-lrvGa6A4OX"
      }
    },
    {
      "cell_type": "code",
      "source": [
        "class Student:\n",
        "  def __init__(self, Name, Student_No, Age, School, Course):\n",
        "    self.Name = Name\n",
        "    self.Student_No = Student_No\n",
        "    self.Age = Age\n",
        "    self.School = School\n",
        "    self.Course = Course\n",
        "  def Info(self):\n",
        "    print(\"Name: \", self.Name)\n",
        "    print(\"Student Number: \", self.Student_No)\n",
        "    print(\"Age: \", self.Age)\n",
        "    print(\"School: \", self.School)\n",
        "    print(\"Course: \", self.Course)\n",
        "Myself = Student(\"Alexis Jelyn P. Anciado\", 202101677, \"18 years old\", \"Cavite State University\", \"Bachelor of Science in Computer Engineering\")\n",
        "Myself.Info()\n"
      ],
      "metadata": {
        "colab": {
          "base_uri": "https://localhost:8080/"
        },
        "id": "p0H446f9A9ZP",
        "outputId": "5ca6986d-6561-4f9e-d7b6-adc20b0211a9"
      },
      "execution_count": 3,
      "outputs": [
        {
          "output_type": "stream",
          "name": "stdout",
          "text": [
            "Name:  Alexis Jelyn P. Anciado\n",
            "Student Number:  202101677\n",
            "Age:  18 years old\n",
            "School:  Cavite State University\n",
            "Course:  Bachelor of Science in Computer Engineering\n"
          ]
        }
      ]
    }
  ]
}