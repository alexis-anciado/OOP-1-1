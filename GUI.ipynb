{
  "nbformat": 4,
  "nbformat_minor": 0,
  "metadata": {
    "colab": {
      "name": "GUI.ipynb",
      "provenance": [],
      "collapsed_sections": [],
      "authorship_tag": "ABX9TyMV17K0SM0/MOmjN86EKQ4e",
      "include_colab_link": true
    },
    "kernelspec": {
      "name": "python3",
      "display_name": "Python 3"
    },
    "language_info": {
      "name": "python"
    }
  },
  "cells": [
    {
      "cell_type": "markdown",
      "metadata": {
        "id": "view-in-github",
        "colab_type": "text"
      },
      "source": [
        "<a href=\"https://colab.research.google.com/github/alexis-anciado/OOP-1-1/blob/main/GUI.ipynb\" target=\"_parent\"><img src=\"https://colab.research.google.com/assets/colab-badge.svg\" alt=\"Open In Colab\"/></a>"
      ]
    },
    {
      "cell_type": "markdown",
      "source": [
        "Students' Grade for OOP subject"
      ],
      "metadata": {
        "id": "S3wNnkc3RwKc"
      }
    },
    {
      "cell_type": "code",
      "source": [
        "#@title Students' Grade in OOP\n",
        "StudentName= \"Alexis Jelyn P. Anciado\"#@param{type:\"string\"}\n",
        "Prelim=90 #@param{type:\"number\"}\n",
        "Midterm=85 #@param{type:\"number\"}\n",
        "Final= 100#@param{type:\"number\"}\n",
        "semestral_grade = round(((Prelim + Midterm + Final)/3),2)\n",
        "\n",
        "print(\"My prelim grade is \" + str(Prelim))\n",
        "print(\"My midterm grade is \" + str(Midterm))\n",
        "print(\"My final grade is \" + str(Final))\n",
        "print(\"My semstral grade is \" + str(semestral_grade))\n",
        "\n",
        "\n",
        "Gender= \"Female\"#@param[\"Male\", \"Female\"]\n",
        "BirthDate = \"2003-08-10\"#@param{type:\"date\"}\n",
        "\n",
        "print(\"My birthdate is \" + BirthDate)"
      ],
      "metadata": {
        "colab": {
          "base_uri": "https://localhost:8080/"
        },
        "id": "KOJ1Rfc2RyOp",
        "outputId": "23704858-d55c-4082-c5df-5b60cd80035e"
      },
      "execution_count": 20,
      "outputs": [
        {
          "output_type": "stream",
          "name": "stdout",
          "text": [
            "My prelim grade is 90\n",
            "My midterm grade is 85\n",
            "My final grade is 100\n",
            "My semstral grade is 91.67\n",
            "My birthdate is 2003-08-10\n"
          ]
        }
      ]
    }
  ]
}