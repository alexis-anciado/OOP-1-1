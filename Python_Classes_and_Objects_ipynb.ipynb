{
  "nbformat": 4,
  "nbformat_minor": 0,
  "metadata": {
    "colab": {
      "name": "Python Classes and Objects ipynb",
      "provenance": [],
      "authorship_tag": "ABX9TyOEkQw8PFn/jCfY6gJE4ZhE",
      "include_colab_link": true
    },
    "kernelspec": {
      "name": "python3",
      "display_name": "Python 3"
    },
    "language_info": {
      "name": "python"
    }
  },
  "cells": [
    {
      "cell_type": "markdown",
      "metadata": {
        "id": "view-in-github",
        "colab_type": "text"
      },
      "source": [
        "<a href=\"https://colab.research.google.com/github/alexis-anciado/OOP-1-1/blob/main/Python_Classes_and_Objects_ipynb.ipynb\" target=\"_parent\"><img src=\"https://colab.research.google.com/assets/colab-badge.svg\" alt=\"Open In Colab\"/></a>"
      ]
    },
    {
      "cell_type": "markdown",
      "source": [
        "Class"
      ],
      "metadata": {
        "id": "omZJ5COj6P1B"
      }
    },
    {
      "cell_type": "code",
      "execution_count": null,
      "metadata": {
        "id": "H5FYqKJq5_5D"
      },
      "outputs": [],
      "source": [
        "class MyClass:     #name of class\n",
        " pass              #class without declared variables and methods\n"
      ]
    },
    {
      "cell_type": "code",
      "source": [
        "class MyClass:\n",
        "  def __init__(self,name,age):\n",
        "    self.name = name            #create a class with attributes\n",
        "    self.age = age\n",
        "\n",
        "  def display(self):\n",
        "    print(self.name, self.age)\n",
        "\n",
        "person = MyClass(\"Alexis Jelyn P. Anciado\", 18)   #create an object name\n",
        "\n",
        "person.display()"
      ],
      "metadata": {
        "colab": {
          "base_uri": "https://localhost:8080/"
        },
        "id": "P_d4Pvtr6F_s",
        "outputId": "88304f73-b83a-4e65-a557-7d1e08c91b76"
      },
      "execution_count": null,
      "outputs": [
        {
          "output_type": "stream",
          "name": "stdout",
          "text": [
            "Alexis Jelyn P. Anciado 18\n"
          ]
        }
      ]
    },
    {
      "cell_type": "code",
      "source": [
        "#Application 1 - Write a Python Program that comptes for the area of a rectangle:   Area = lw\n",
        "\n",
        "class Rectangle:\n",
        " def __init__(self,l,w):\n",
        "   self.l = l            #attribute names\n",
        "   self.w = w\n",
        "\n",
        " def Area(self):\n",
        "   print(self.l*self.w)\n",
        "\n",
        "\n",
        "rect = Rectangle(7,3)\n",
        "rect.Area()"
      ],
      "metadata": {
        "colab": {
          "base_uri": "https://localhost:8080/"
        },
        "id": "sdzV8SoK6NZ_",
        "outputId": "7394abb3-0eb0-4411-d1db-366f37816c80"
      },
      "execution_count": null,
      "outputs": [
        {
          "output_type": "stream",
          "name": "stdout",
          "text": [
            "21\n"
          ]
        }
      ]
    }
  ]
}